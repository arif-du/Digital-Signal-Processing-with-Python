{
  "nbformat": 4,
  "nbformat_minor": 0,
  "metadata": {
    "colab": {
      "provenance": []
    },
    "kernelspec": {
      "name": "python3",
      "display_name": "Python 3"
    },
    "language_info": {
      "name": "python"
    }
  },
  "cells": [
    {
      "cell_type": "markdown",
      "source": [
        "# **Signal resolution**\n",
        "Signal resolution refers to the smallest change in a signal that can be detected or resolved by a measurement system. In other words, it is the smallest difference between two values of a signal that can be distinguished by the measurement system.\n",
        "\n",
        "Signal resolution is typically quantified in terms of the number of bits used to represent the signal. For example, if a measurement system uses 8-bit resolution to represent a signal, it means that the smallest change in the signal that can be detected is 1/256th of the full-scale range of the measurement system.\n",
        "\n",
        "The signal resolution can have a significant impact on the accuracy and precision of measurements. Higher resolution can provide more accurate measurements, but it can also increase the complexity and cost of the measurement system. The choice of signal resolution depends on the specific application and the requirements for accuracy, precision, and cost."
      ],
      "metadata": {
        "id": "rmNPgPUsTa-p"
      }
    },
    {
      "cell_type": "code",
      "execution_count": 1,
      "metadata": {
        "colab": {
          "base_uri": "https://localhost:8080/"
        },
        "id": "I0y_t2jjTEAy",
        "outputId": "d05f2f32-cbdf-403b-8035-2d4f4fb3198e"
      },
      "outputs": [
        {
          "output_type": "stream",
          "name": "stdout",
          "text": [
            "Signal resolution: 0.007459266794472019\n"
          ]
        }
      ],
      "source": [
        "import numpy as np\n",
        "\n",
        "# Generate a signal\n",
        "fs = 1000  # Sampling frequency\n",
        "t = np.arange(0, 1, 1/fs)  # Time vector\n",
        "x = np.sin(2*np.pi*100*t)  # Signal\n",
        "\n",
        "# Determine the signal resolution\n",
        "nbits = 8  # Number of bits used to represent the signal\n",
        "full_scale_range = 2**nbits - 1  # Full-scale range of the measurement system\n",
        "xmin = np.min(x)  # Minimum value of the signal\n",
        "xmax = np.max(x)  # Maximum value of the signal\n",
        "resolution = (xmax - xmin) / full_scale_range  # Signal resolution\n",
        "\n",
        "print(\"Signal resolution:\", resolution)"
      ]
    },
    {
      "cell_type": "markdown",
      "source": [
        "This code generates a 1-second sine wave with a frequency of 100 Hz and a sampling frequency of 1000 Hz. It then calculates the signal resolution for an 8-bit measurement system. The output should be a value indicating the smallest change in the signal that can be detected by the measurement system."
      ],
      "metadata": {
        "id": "D20RXNghTtYa"
      }
    }
  ]
}