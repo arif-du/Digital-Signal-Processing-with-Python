{
  "nbformat": 4,
  "nbformat_minor": 0,
  "metadata": {
    "colab": {
      "provenance": []
    },
    "kernelspec": {
      "name": "python3",
      "display_name": "Python 3"
    },
    "language_info": {
      "name": "python"
    }
  },
  "cells": [
    {
      "cell_type": "markdown",
      "source": [
        "# **Infinite Impulse Response (IIR)**\n",
        "An Infinite Impulse Response (IIR) filter is a type of digital filter where the output signal depends not only on the input signal but also on the filter's previous output values. This means that an IIR filter has feedback, and the output signal can oscillate or ring due to the feedback. IIR filters are characterized by their transfer function, which is a ratio of polynomials of the filter's input and output signals.\n",
        "\n",
        "IIR filters are used in a variety of signal processing applications, including audio and image processing, biomedical signal processing, and control systems. Compared to Finite Impulse Response (FIR) filters, IIR filters typically have a lower computational cost and can achieve sharper cutoff frequencies.\n",
        "\n",
        "There are several methods for designing IIR filters, including **Butterworth**, Chebyshev, and elliptic filter designs. These designs differ in their passband ripple, stopband attenuation, and transition band characteristics. The choice of filter design depends on the specific application requirements."
      ],
      "metadata": {
        "id": "ElBI-OArFSwN"
      }
    },
    {
      "cell_type": "markdown",
      "source": [
        "# Filter performance parameters\n",
        "Passband ripple, stopband attenuation, and transition band characteristics are important parameters that define the performance of a filter. These parameters are typically specified in the filter design process to meet specific requirements for a given application. Here is a brief overview of these characteristics:\n",
        "\n",
        "**Passband ripple** refers to the amount of variation in gain that is allowed in the passband of the filter. For example, a low-pass filter with a passband ripple of 1 dB would allow the gain to vary by up to 1 dB across the passband. Passband ripple is typically specified as a maximum value in decibels (dB).\n",
        "\n",
        "**Stopband attenuation** refers to the amount of attenuation (reduction in gain) that is required in the stopband of the filter. For example, a low-pass filter with a stopband attenuation of 60 dB would reduce the gain by at least 60 dB in the stopband. Stopband attenuation is typically specified as a minimum value in decibels (dB).\n",
        "\n",
        "**Transition band** refers to the frequency range between the passband and stopband of the filter. In this region, the gain of the filter changes from the passband to the stopband. The width of the transition band is typically specified as the frequency range over which the gain changes from the passband ripple to the stopband attenuation. The steepness of the transition is also an important characteristic and is typically specified as the rate of attenuation per octave or per decade.\n",
        "\n",
        "These characteristics are interrelated, and changing one can affect the others. For example, increasing the passband ripple can allow for a steeper roll-off in the stopband, but may also increase the width of the transition band. The choice of filter type and design parameters depends on the specific requirements of the application."
      ],
      "metadata": {
        "id": "vwbYvKnXGuyw"
      }
    },
    {
      "cell_type": "markdown",
      "source": [
        "# IIR filter design methods\n",
        "Butterworth, Chebyshev, and elliptic filters are all types of IIR filters, which means they have feedback loops in their design. These filters have different characteristics and are useful for different applications.\n",
        "\n",
        "**Butterworth filters** are designed to have a maximally flat frequency response in the passband. This means that the gain in the passband is as uniform as possible. The trade-off for this flatness is a slower roll-off (i.e., less steep attenuation in the stopband). Butterworth filters are often used in applications where a flat response is desired, such as in audio applications.\n",
        "\n",
        "**Chebyshev filters** are designed to have a steeper roll-off in the stopband than Butterworth filters. This means that they can achieve a higher level of attenuation in the stopband for a given order of filter. The trade-off for this steeper roll-off is some ripple (i.e., variation) in the passband. Chebyshev filters can be designed as Type I or Type II, with Type I filters having ripple only in the passband and Type II filters having ripple only in the stopband.\n",
        "\n",
        "**Elliptic filters** are designed to have the steepest possible roll-off in the transition region between the passband and stopband, for a given order of filter. This means that they can achieve a high level of attenuation in the stopband with minimal ripple in the passband. However, they also have ripple in both the passband and stopband, which can make them more difficult to design and tune.\n",
        "\n",
        "In summary, Butterworth filters are often used when a flat response is desired, Chebyshev filters are useful when a steeper roll-off is needed, and elliptic filters are used when a very steep roll-off is required with minimal ripple. The choice of filter type depends on the specific requirements of the application."
      ],
      "metadata": {
        "id": "HO-6WP0SGT98"
      }
    },
    {
      "cell_type": "markdown",
      "source": [
        "# **Low Pass Butterworth IIR filter**"
      ],
      "metadata": {
        "id": "qd1n8NXeHxYI"
      }
    },
    {
      "cell_type": "markdown",
      "source": [
        "In this example, we first specify the filter parameters, including the sample rate `fs`, the cutoff frequency `cutoff`, and the filter order `order`. We then use the `butter` function to compute the filter coefficients `b` and `a` using the **Butterworth** filter design method. Finally, we use the `freqz` function to compute the frequency response of the filter, and plot the response using the matplotlib library. \n",
        "\n",
        "Note that we also use the `filtfilt` function to apply the filter to a signal in order to remove phase distortion, as IIR filters can introduce phase shifts in the filtered signal."
      ],
      "metadata": {
        "id": "T-PWis5pEkRN"
      }
    },
    {
      "cell_type": "code",
      "execution_count": 1,
      "metadata": {
        "colab": {
          "base_uri": "https://localhost:8080/",
          "height": 295
        },
        "id": "fHzubpQTEZTJ",
        "outputId": "b33329eb-f357-4b04-86b8-9ac669aa3cf3"
      },
      "outputs": [
        {
          "output_type": "display_data",
          "data": {
            "text/plain": [
              "<Figure size 432x288 with 1 Axes>"
            ],
            "image/png": "[encoded data removed]"
          },
          "metadata": {
            "needs_background": "light"
          }
        }
      ],
      "source": [
        "import numpy as np\n",
        "from scipy.signal import butter, freqz, filtfilt\n",
        "import matplotlib.pyplot as plt\n",
        "\n",
        "# Filter specifications\n",
        "fs = 1000 # Sample rate, Hz\n",
        "cutoff = 100 # Cutoff frequency, Hz\n",
        "order = 4 # Filter order\n",
        "\n",
        "# Compute the filter coefficients using the Butterworth filter design function\n",
        "b, a = butter(order, cutoff/(0.5*fs), btype='low')\n",
        "\n",
        "# Compute the frequency response of the filter\n",
        "w, h = freqz(b, a, worN=2000)\n",
        "\n",
        "# Plot the frequency response\n",
        "fig, ax1 = plt.subplots()\n",
        "ax1.set_title('Digital filter frequency response')\n",
        "ax1.plot(0.5*fs*w/np.pi, 20*np.log10(np.abs(h)), 'b')\n",
        "ax1.set_ylabel('Amplitude [dB]', color='b')\n",
        "ax1.set_xlabel('Frequency [Hz]')\n",
        "ax1.set_ylim([-80, 5])\n",
        "ax1.set_xlim([0, 0.5*fs])\n",
        "ax1.grid()\n",
        "\n",
        "plt.show()\n"
      ]
    },
    {
      "cell_type": "code",
      "source": [
        "b"
      ],
      "metadata": {
        "colab": {
          "base_uri": "https://localhost:8080/"
        },
        "id": "04iVfUvjKpW_",
        "outputId": "65334d38-cbfe-4d3b-c77c-0aed95ef4e31"
      },
      "execution_count": 6,
      "outputs": [
        {
          "output_type": "execute_result",
          "data": {
            "text/plain": [
              "array([  0.43284664,  -2.94561079,   9.24844517, -17.36268832,\n",
              "        21.25746019, -17.36268832,   9.24844517,  -2.94561079,\n",
              "         0.43284664])"
            ]
          },
          "metadata": {},
          "execution_count": 6
        }
      ]
    },
    {
      "cell_type": "code",
      "source": [
        "a"
      ],
      "metadata": {
        "colab": {
          "base_uri": "https://localhost:8080/"
        },
        "id": "_70f08lkKsRO",
        "outputId": "5c875437-e27c-4c42-9958-5f0e3605dbcf"
      },
      "execution_count": 7,
      "outputs": [
        {
          "output_type": "execute_result",
          "data": {
            "text/plain": [
              "array([  1.        ,  -5.41823139,  13.5293587 , -20.31926512,\n",
              "        20.07119886, -13.34437166,   5.83210677,  -1.53473005,\n",
              "         0.18737949])"
            ]
          },
          "metadata": {},
          "execution_count": 7
        }
      ]
    },
    {
      "cell_type": "markdown",
      "source": [
        "`from scipy.signal import butter, freqz, filtfilt`\n",
        "\n",
        "This code imports the necessary functions from the scipy.signal module to design and analyze IIR filters. Specifically, it imports the butter function for designing Butterworth filters, the freqz function for computing the frequency response of a filter, and the filtfilt function for applying a filter to a signal using forward and backward filtering to eliminate phase distortion. These functions can be used together to design and analyze IIR filters for a variety of applications."
      ],
      "metadata": {
        "id": "QrUoDSSZIZJ0"
      }
    },
    {
      "cell_type": "markdown",
      "source": [
        "\n",
        "```\n",
        "# Filter specifications\n",
        "fs = 1000 # Sample rate, Hz\n",
        "cutoff = 100 # Cutoff frequency, Hz\n",
        "order = 4 # Filter order\n",
        "```\n",
        "Here, the filter specifications are defined for the IIR filter design. fs is the sample rate in Hz, cutoff is the desired cutoff frequency in Hz, and order is the order of the filter. The order determines the steepness of the filter's rolloff, with higher orders resulting in steeper rolloffs but also greater phase distortion in the filter's passband. In this case, an order of 4 is chosen, which is a good tradeoff between steepness and phase distortion for many applications.\n"
      ],
      "metadata": {
        "id": "4aJwbmreIpIi"
      }
    },
    {
      "cell_type": "markdown",
      "source": [
        "\n",
        "```\n",
        "# Compute the filter coefficients using the Butterworth filter design function\n",
        "b, a = butter(order, cutoff/(0.5*fs), btype='low')\n",
        "```\n",
        "Here, the butter function is used to compute the filter coefficients for the Butterworth filter design. The first argument is the filter order, and the second argument is the normalized cutoff frequency, which is defined as the desired cutoff frequency divided by half the sample rate (i.e., the Nyquist frequency). The btype argument specifies the type of filter to design; in this case, a low-pass filter is designed.\n",
        "\n",
        "The butter function returns the filter coefficients in two arrays, b and a, representing the numerator and denominator coefficients of the filter transfer function. These coefficients can be used to implement the filter using a difference equation or to analyze the filter's frequency response.\n"
      ],
      "metadata": {
        "id": "i_Jcvtm3I0v3"
      }
    },
    {
      "cell_type": "markdown",
      "source": [
        "\n",
        "```\n",
        "# Compute the frequency response of the filter\n",
        "w, h = freqz(b, a, worN=2000)\n",
        "```\n",
        "Here, the freqz function is used to compute the frequency response of the filter. The function takes the filter coefficients as input and returns the complex frequency response of the filter in h and the corresponding frequency values in w. The worN argument specifies the number of points to evaluate the frequency response at; in this case, 2000 points are used.\n",
        "\n",
        "The frequency response of the filter is a complex function of frequency that describes how the filter modifies the amplitude and phase of sinusoidal signals at each frequency. The frequency response is typically analyzed by plotting the magnitude and phase of the response as functions of frequency.\n"
      ],
      "metadata": {
        "id": "Ez5LO9ZjI49u"
      }
    },
    {
      "cell_type": "markdown",
      "source": [
        "\n",
        "```\n",
        "# Plot the frequency response\n",
        "fig, ax1 = plt.subplots()\n",
        "ax1.set_title('Digital filter frequency response')\n",
        "ax1.plot(0.5*fs*w/np.pi, 20*np.log10(np.abs(h)), 'b')\n",
        "ax1.set_ylabel('Amplitude [dB]', color='b')\n",
        "ax1.set_xlabel('Frequency [Hz]')\n",
        "ax1.set_ylim([-80, 5])\n",
        "ax1.set_xlim([0, 0.5*fs])\n",
        "ax1.grid()\n",
        "\n",
        "plt.show()\n",
        "```\n",
        "Here is a description of each line:\n",
        "\n",
        "`fig, ax1 = plt.subplots()`\n",
        "\n",
        "This creates a new figure object and a set of subplots within it. The ax1 variable is used to reference the subplot later.\n",
        "\n",
        "`ax1.set_title('Digital filter frequency response')`\n",
        "\n",
        "This sets the title of the subplot to \"Digital filter frequency response\".\n",
        "\n",
        "`ax1.plot(0.5*fs*w/np.pi, 20*np.log10(np.abs(h)), 'b')`\n",
        "\n",
        "This plots the magnitude of the frequency response in decibels as a function of frequency. The x-axis is scaled from 0 to the Nyquist frequency (half the sampling rate), and the y-axis is scaled from -80 to 5 dB. The 'b' argument specifies that the line should be drawn in blue.\n",
        "\n",
        "`ax1.set_ylabel('Amplitude [dB]', color='b')`\n",
        "\n",
        "This sets the label for the y-axis to \"Amplitude [dB]\" and sets the color to blue.\n",
        "\n",
        "`ax1.set_xlabel('Frequency [Hz]')`\n",
        "\n",
        "This sets the label for the x-axis to \"Frequency [Hz]\".\n",
        "\n",
        "```\n",
        "ax1.set_ylim([-80, 5])\n",
        "ax1.set_xlim([0, 0.5*fs])\n",
        "```\n",
        "\n",
        "These lines set the limits for the y-axis and x-axis, respectively."
      ],
      "metadata": {
        "id": "oHH_4K0kJRCn"
      }
    },
    {
      "cell_type": "markdown",
      "source": [
        "# **High Pass Butterworth IIR filter**"
      ],
      "metadata": {
        "id": "jUtStiCaIguj"
      }
    },
    {
      "cell_type": "markdown",
      "source": [
        "In this example, we use the same filter parameters as in the previous example, but we specify the filter type as '**high**' using the btype argument of the butter function. This creates a Butterworth high-pass filter with the specified cutoff frequency and order. We then compute the frequency response of the filter and plot the response using the matplotlib library. \n",
        "\n",
        "Note that we also use the filtfilt function to apply the filter to a signal in order to remove phase distortion, as IIR filters can introduce phase shifts in the filtered signal."
      ],
      "metadata": {
        "id": "AqRi8TmwE0dJ"
      }
    },
    {
      "cell_type": "code",
      "source": [
        "import numpy as np\n",
        "from scipy.signal import butter, freqz, filtfilt\n",
        "import matplotlib.pyplot as plt\n",
        "\n",
        "# Filter specifications\n",
        "fs = 1000 # Sample rate, Hz\n",
        "cutoff = 100 # Cutoff frequency, Hz\n",
        "order = 4 # Filter order\n",
        "\n",
        "# Compute the filter coefficients using the Butterworth filter design function\n",
        "b, a = butter(order, cutoff/(0.5*fs), btype='high')\n",
        "\n",
        "# Compute the frequency response of the filter\n",
        "w, h = freqz(b, a, worN=2000)\n",
        "\n",
        "# Plot the frequency response\n",
        "fig, ax1 = plt.subplots()\n",
        "ax1.set_title('Digital filter frequency response')\n",
        "ax1.plot(0.5*fs*w/np.pi, 20*np.log10(np.abs(h)), 'b')\n",
        "ax1.set_ylabel('Amplitude [dB]', color='b')\n",
        "ax1.set_xlabel('Frequency [Hz]')\n",
        "ax1.set_ylim([-80, 5])\n",
        "ax1.set_xlim([0, 0.5*fs])\n",
        "ax1.grid()\n",
        "\n",
        "plt.show()\n"
      ],
      "metadata": {
        "colab": {
          "base_uri": "https://localhost:8080/",
          "height": 295
        },
        "id": "Rn-08r2YEcGW",
        "outputId": "7d8983bd-5727-45af-bdc8-386f8ccd9d13"
      },
      "execution_count": 2,
      "outputs": [
        {
          "output_type": "display_data",
          "data": {
            "text/plain": [
              "<Figure size 432x288 with 1 Axes>"
            ],
            "image/png": "[encoded data removed]"
          },
          "metadata": {
            "needs_background": "light"
          }
        }
      ]
    },
    {
      "cell_type": "markdown",
      "source": [
        "# **Band-pass Butterworth IIR filter**"
      ],
      "metadata": {
        "id": "Vi0a-rVYKHhc"
      }
    },
    {
      "cell_type": "markdown",
      "source": [
        "In this example, we specify the filter type as '**bandpass**' using the btype argument of the butter function, and we provide the lower and upper cutoff frequencies as a list of `[f1/(0.5*fs), f2/(0.5*fs)]`. This creates a Butterworth band-pass filter with the specified cutoff frequencies and order. We then compute the frequency response of the filter and plot the response using the matplotlib library. \n",
        "\n",
        "Note that we also use the filtfilt function to apply the filter to a signal in order to remove phase distortion, as IIR filters can introduce phase shifts in the filtered signal."
      ],
      "metadata": {
        "id": "urzaj3u-FCiN"
      }
    },
    {
      "cell_type": "code",
      "source": [
        "import numpy as np\n",
        "from scipy.signal import butter, freqz, filtfilt\n",
        "import matplotlib.pyplot as plt\n",
        "\n",
        "# Filter specifications\n",
        "fs = 1000 # Sample rate, Hz\n",
        "f1 = 50 # Lower cutoff frequency, Hz\n",
        "f2 = 150 # Upper cutoff frequency, Hz\n",
        "order = 4 # Filter order\n",
        "\n",
        "# Compute the filter coefficients using the Butterworth filter design function\n",
        "b, a = butter(order, [f1/(0.5*fs), f2/(0.5*fs)], btype='bandpass')\n",
        "\n",
        "# Compute the frequency response of the filter\n",
        "w, h = freqz(b, a, worN=2000)\n",
        "\n",
        "# Plot the frequency response\n",
        "fig, ax1 = plt.subplots()\n",
        "ax1.set_title('Digital filter frequency response')\n",
        "ax1.plot(0.5*fs*w/np.pi, 20*np.log10(np.abs(h)), 'b')\n",
        "ax1.set_ylabel('Amplitude [dB]', color='b')\n",
        "ax1.set_xlabel('Frequency [Hz]')\n",
        "ax1.set_ylim([-80, 5])\n",
        "ax1.set_xlim([0, 0.5*fs])\n",
        "ax1.grid()\n",
        "\n",
        "plt.show()\n"
      ],
      "metadata": {
        "colab": {
          "base_uri": "https://localhost:8080/",
          "height": 330
        },
        "id": "24N3OB9YEw9M",
        "outputId": "866c15ee-b8fb-482b-dd06-3e395a9b6345"
      },
      "execution_count": 3,
      "outputs": [
        {
          "output_type": "stream",
          "name": "stderr",
          "text": [
            "<ipython-input-3-89eadad8349e>:20: RuntimeWarning: divide by zero encountered in log10\n",
            "  ax1.plot(0.5*fs*w/np.pi, 20*np.log10(np.abs(h)), 'b')\n"
          ]
        },
        {
          "output_type": "display_data",
          "data": {
            "text/plain": [
              "<Figure size 432x288 with 1 Axes>"
            ],
            "image/png": "[encoded data removed]"
          },
          "metadata": {
            "needs_background": "light"
          }
        }
      ]
    },
    {
      "cell_type": "markdown",
      "source": [
        "# **Band-stop Butterworth IIR filter**"
      ],
      "metadata": {
        "id": "HeSUbNpwKT87"
      }
    },
    {
      "cell_type": "markdown",
      "source": [
        "In this example, we specify the filter type as '**bandstop**' using the btype argument of the butter function, and we provide the lower and upper stopband frequencies as a list of `[f1/(0.5*fs), f2/(0.5*fs)]`. This creates a Butterworth band-stop filter with the specified stopband frequencies and order. We then compute the frequency response of the filter and plot the response using the matplotlib library. \n",
        "\n",
        "Note that we also use the filtfilt function to apply the filter to a signal in order to remove phase distortion, as IIR filters can introduce phase shifts in the filtered signal."
      ],
      "metadata": {
        "id": "WGIqpMrCFQaV"
      }
    },
    {
      "cell_type": "code",
      "source": [
        "import numpy as np\n",
        "from scipy.signal import butter, freqz, filtfilt\n",
        "import matplotlib.pyplot as plt\n",
        "\n",
        "# Filter specifications\n",
        "fs = 1000 # Sample rate, Hz\n",
        "f1 = 50 # Lower stopband frequency, Hz\n",
        "f2 = 150 # Upper stopband frequency, Hz\n",
        "order = 4 # Filter order\n",
        "\n",
        "# Compute the filter coefficients using the Butterworth filter design function\n",
        "b, a = butter(order, [f1/(0.5*fs), f2/(0.5*fs)], btype='bandstop')\n",
        "\n",
        "# Compute the frequency response of the filter\n",
        "w, h = freqz(b, a, worN=2000)\n",
        "\n",
        "# Plot the frequency response\n",
        "fig, ax1 = plt.subplots()\n",
        "ax1.set_title('Digital filter frequency response')\n",
        "ax1.plot(0.5*fs*w/np.pi, 20*np.log10(np.abs(h)), 'b')\n",
        "ax1.set_ylabel('Amplitude [dB]', color='b')\n",
        "ax1.set_xlabel('Frequency [Hz]')\n",
        "ax1.set_ylim([-80, 5])\n",
        "ax1.set_xlim([0, 0.5*fs])\n",
        "ax1.grid()\n",
        "\n",
        "plt.show()\n"
      ],
      "metadata": {
        "colab": {
          "base_uri": "https://localhost:8080/",
          "height": 295
        },
        "id": "t8cJNn9pE_DM",
        "outputId": "6695abc5-2592-478e-c134-4596b3d1e659"
      },
      "execution_count": 4,
      "outputs": [
        {
          "output_type": "display_data",
          "data": {
            "text/plain": [
              "<Figure size 432x288 with 1 Axes>"
            ],
            "image/png": "[encoded data removed]"
          },
          "metadata": {
            "needs_background": "light"
          }
        }
      ]
    }
  ]
}