{
  "nbformat": 4,
  "nbformat_minor": 0,
  "metadata": {
    "colab": {
      "provenance": []
    },
    "kernelspec": {
      "name": "python3",
      "display_name": "Python 3"
    },
    "language_info": {
      "name": "python"
    }
  },
  "cells": [
    {
      "cell_type": "markdown",
      "source": [
        "# **Linear Convolution**\n",
        "Convolution is an operation performed on two functions, where one of the functions is flipped and shifted before being integrated over the range of the other function. In the context of signal processing, convolution is used to calculate the output of a linear time-invariant system given its input signal and impulse response. The result of the convolution operation is a new function that describes how the input signal is modified by the system.\n",
        "\n",
        "In Python, convolution can be performed using the convolve function from the NumPy library. The convolve function takes two arrays as input and returns their convolution. For example, if x and h are two arrays containing the input signal and impulse response, respectively, then their convolution y can be computed using the following code:"
      ],
      "metadata": {
        "id": "f0rajm-s31ip"
      }
    },
    {
      "cell_type": "code",
      "source": [
        "import numpy as np\n",
        "\n",
        "# Define input signal and impulse response\n",
        "x = np.array([1, 2, 3])\n",
        "h = np.array([0.5, 1, 0.5])\n",
        "\n",
        "# Compute convolution\n",
        "y = np.convolve(x, h)\n",
        "\n",
        "print(y) # prints [0.5, 2, 3.5, 4, 1.5]"
      ],
      "metadata": {
        "colab": {
          "base_uri": "https://localhost:8080/"
        },
        "id": "4uGHOpy13h44",
        "outputId": "f8de1b2c-3ae5-42e0-b5df-bb96183586c3"
      },
      "execution_count": 2,
      "outputs": [
        {
          "output_type": "stream",
          "name": "stdout",
          "text": [
            "[0.5 2.  4.  4.  1.5]\n"
          ]
        }
      ]
    },
    {
      "cell_type": "markdown",
      "source": [
        "Note that the length of the output array is **len(x) + len(h) - 1**. This is because the convolution operation involves shifting and summing the impulse response with the input signal at each time step, which causes the output to be longer than the input."
      ],
      "metadata": {
        "id": "gKxvKg3x4DOH"
      }
    },
    {
      "cell_type": "markdown",
      "source": [
        "# **Circular Convolution**\n",
        "Circular convolution is a type of convolution in which the signals are assumed to be periodic. Unlike linear convolution, circular convolution can handle periodic signals of finite length without producing any aliasing effects. It is often used in digital signal processing applications such as audio and image processing.\n",
        "\n",
        "In circular convolution, the signals are multiplied in the frequency domain using the Discrete Fourier Transform (DFT), and then the inverse DFT is taken to obtain the circular convolution of the signals.\n",
        "\n",
        "Here's an example of circular convolution in Python using the numpy library:"
      ],
      "metadata": {
        "id": "WtXIpiJb4Sog"
      }
    },
    {
      "cell_type": "code",
      "source": [
        "import numpy as np\n",
        "\n",
        "# Define the signals\n",
        "x = np.array([1, 2, 3, 4])\n",
        "h = np.array([1, 1, 1])\n",
        "\n",
        "# Compute the circular convolution using the DFT\n",
        "N = len(x) + len(h) - 1\n",
        "X = np.fft.fft(x, n=N)\n",
        "H = np.fft.fft(h, n=N)\n",
        "Y = X * H\n",
        "y = np.fft.ifft(Y).real\n",
        "\n",
        "# Print the result\n",
        "print(y)"
      ],
      "metadata": {
        "colab": {
          "base_uri": "https://localhost:8080/"
        },
        "id": "lk0p3lwS36yz",
        "outputId": "9019e61f-bedd-4135-9f96-34eaac13c886"
      },
      "execution_count": 3,
      "outputs": [
        {
          "output_type": "stream",
          "name": "stdout",
          "text": [
            "[1. 3. 6. 9. 7. 4.]\n"
          ]
        }
      ]
    },
    {
      "cell_type": "markdown",
      "source": [
        "This code computes the circular convolution of the signals x and h. The `numpy.fft.fft` function is used to compute the DFT of the signals with zero-padding to the length of N, which is the sum of the lengths of x and h minus one. The DFT of each signal is multiplied element-wise to obtain the DFT of the circular convolution, and the `numpy.fft.ifft` function is used to compute the inverse DFT of the result. The real method is called to discard the imaginary parts of the result, since they should be zero for real-valued signals."
      ],
      "metadata": {
        "id": "DSXJBXwL4bvi"
      }
    },
    {
      "cell_type": "markdown",
      "source": [
        "# **Cross-correlation**\n",
        "Cross-correlation is a mathematical operation used to measure the similarity between two signals as a function of the time-lag applied to one of them. It is similar to the correlation operation but instead of comparing a signal with itself, it compares two different signals. Cross-correlation is used in many applications including signal processing, image processing, pattern recognition, and machine learning. In signal processing, cross-correlation is often used to detect the presence of a known signal within an unknown signal, to align two signals in time, and to estimate time delays between signals. In Python, cross-correlation can be computed using the numpy.correlate function."
      ],
      "metadata": {
        "id": "yvJONHhJ4sWp"
      }
    },
    {
      "cell_type": "code",
      "source": [
        "import numpy as np\n",
        "from scipy.signal import correlate\n",
        "\n",
        "# Define two signals\n",
        "x = np.array([1, 2, 3, 4, 5])\n",
        "y = np.array([0, 1, 0, -1, 0])\n",
        "\n",
        "# Compute the cross-correlation of x and y\n",
        "corr_xy = correlate(x, y, mode='full')\n",
        "\n",
        "# Print the result\n",
        "print(corr_xy)"
      ],
      "metadata": {
        "colab": {
          "base_uri": "https://localhost:8080/"
        },
        "id": "u-QPuUdp4Xz3",
        "outputId": "d570a66f-6faa-4df8-ed7c-fdc9dd1e0c4a"
      },
      "execution_count": 4,
      "outputs": [
        {
          "output_type": "stream",
          "name": "stdout",
          "text": [
            "[ 0 -1 -2 -2 -2 -2  4  5  0]\n"
          ]
        }
      ]
    },
    {
      "cell_type": "markdown",
      "source": [
        "In this example, we first define two signals x and y. We then use the correlate function from the scipy.signal module to compute the cross-correlation of x and y. The mode parameter is set to 'full', which means that the output will have length **len(x) + len(y) - 1**. The resulting cross-correlation is stored in the variable corr_xy, which is then printed."
      ],
      "metadata": {
        "id": "gjdYqmEY44q4"
      }
    },
    {
      "cell_type": "markdown",
      "source": [
        "# **Auto-correlation**\n",
        "Auto-correlation is a mathematical operation that measures the similarity between a signal and a delayed version of itself. It is often used in signal processing to find patterns in a signal, detect periodicity, and estimate pitch."
      ],
      "metadata": {
        "id": "ow8Xwwup5APX"
      }
    },
    {
      "cell_type": "code",
      "source": [
        "import numpy as np\n",
        "\n",
        "def auto_correlation(x):\n",
        "    # Compute the auto-correlation of the signal\n",
        "    return np.correlate(x, x, mode='same')\n",
        "\n",
        "# Example usage\n",
        "x = np.array([1, 2, 3, 4, 5])\n",
        "r = auto_correlation(x)\n",
        "print(r)"
      ],
      "metadata": {
        "colab": {
          "base_uri": "https://localhost:8080/"
        },
        "id": "Gi_kWjnp41x4",
        "outputId": "ff7bd2e3-aade-4d67-bbb1-6d54909a879f"
      },
      "execution_count": 5,
      "outputs": [
        {
          "output_type": "stream",
          "name": "stdout",
          "text": [
            "[26 40 55 40 26]\n"
          ]
        }
      ]
    },
    {
      "cell_type": "markdown",
      "source": [
        "The output represents the auto-correlation of the input signal x. The first element of the output (r[0]) represents the auto-correlation at zero delay (i.e., the maximum correlation between the signal and itself), the second element (r[1]) represents the auto-correlation at a delay of one sample, and so on."
      ],
      "metadata": {
        "id": "Atl8-VWI5I0w"
      }
    }
  ]
}