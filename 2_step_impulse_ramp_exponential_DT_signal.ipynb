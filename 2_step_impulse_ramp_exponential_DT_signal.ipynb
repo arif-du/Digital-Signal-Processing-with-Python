{
  "nbformat": 4,
  "nbformat_minor": 0,
  "metadata": {
    "colab": {
      "provenance": []
    },
    "kernelspec": {
      "name": "python3",
      "display_name": "Python 3"
    },
    "language_info": {
      "name": "python"
    }
  },
  "cells": [
    {
      "cell_type": "markdown",
      "source": [
        "# **Unit step signal**\n",
        "\n",
        "A unit step signal, also known as a Heaviside function or a step function, is a mathematical function used in signal processing and other fields. It is denoted as `u(t)` and defined as:\n",
        "\n",
        "```\n",
        "u(t) = {0 if t < 0 \n",
        "       {1 if t >= 0\n",
        "```\n",
        "\n",
        "In other words, the unit step signal is a function that is zero for negative values of its argument and one for non-negative values. It is often used to represent the starting point of a signal or system, such as the moment when a switch is turned on, or the time when a system starts operating.\n",
        "\n",
        "The unit step signal has several important properties, such as:\n",
        "\n",
        "It is continuous from the right, meaning that as t approaches zero from the positive side, the function approaches 1.\n",
        "\n",
        "It has a derivative of zero almost everywhere, except at t = 0 where it has a derivative of infinity (in the sense of a Dirac delta function).\n",
        "\n",
        "It can be shifted in time by adding a constant to its argument. For example, u(t - a) is a unit step signal that starts at t = a.\n",
        "\n",
        "It can be used to define other functions, such as the ramp function or the sign function."
      ],
      "metadata": {
        "id": "ZHFVh0fr2aTr"
      }
    },
    {
      "cell_type": "code",
      "execution_count": null,
      "metadata": {
        "colab": {
          "base_uri": "https://localhost:8080/",
          "height": 357
        },
        "id": "C16XEoAR2Qb6",
        "outputId": "4e117f1f-6905-4fb3-eb70-b0e8b62e4459"
      },
      "outputs": [
        {
          "output_type": "stream",
          "name": "stdout",
          "text": [
            "range(-2, 6)\n",
            "[0, 0, 1, 1, 1, 1, 1, 1]\n"
          ]
        },
        {
          "output_type": "stream",
          "name": "stderr",
          "text": [
            "<ipython-input-12-d532d2cee1a7>:13: UserWarning: In Matplotlib 3.3 individual lines on a stem plot will be added as a LineCollection instead of individual lines. This significantly improves the performance of a stem plot. To remove this warning and switch to the new behaviour, set the \"use_line_collection\" keyword argument to True.\n",
            "  plt.stem(n, y)\n"
          ]
        },
        {
          "output_type": "display_data",
          "data": {
            "text/plain": [
              "<Figure size 432x288 with 1 Axes>"
            ],
            "image/png": "[encoded data removed]"
          },
          "metadata": {
            "needs_background": "light"
          }
        }
      ],
      "source": [
        "import numpy as np \n",
        "import matplotlib.pyplot as plt\n",
        "n = range(-2, 6, 1)\n",
        "y = []\n",
        "for i in range(len(n)):\n",
        "    temp = (1 if n[i]>=0 else 0)\n",
        "    y.append(temp)\n",
        "    \n",
        "print(n)\n",
        "print(y)\n",
        "\n",
        "#plotting the graph\n",
        "plt.stem(n, y)\n",
        "plt.axis([-2.1, 5.1, -0.1, 1.3])\n",
        "plt.show()"
      ]
    },
    {
      "cell_type": "markdown",
      "source": [
        "The statement `n = range(-2, 6, 1)` creates a range object n that includes the integers from -2 up to (but not including) 6, with a step size of 1.\n",
        "\n",
        "In other words, the elements of n are **-2, -1, 0, 1, 2, 3, 4, 5**.\n",
        "\n",
        "This is a common way to define a sequence of integer values in Python, and the resulting n can be used in loops, list comprehensions, and other constructs that operate on sequences."
      ],
      "metadata": {
        "id": "SFB0hiMB9q-2"
      }
    },
    {
      "cell_type": "markdown",
      "source": [
        "\n",
        "```\n",
        "y = []\n",
        "for i in range(len(n)):\n",
        "    temp = (1 if n[i]>=0 else 0)\n",
        "    y.append(temp)\n",
        "```\n",
        "The code snippet `y = []` initializes an empty list called y.\n",
        "\n",
        "The for loop then iterates over the indices of the n sequence using the `range(len(n))` function. For each index i, the loop checks if the corresponding value in n is greater than or equal to zero using the ternary operator `(1 if n[i]>=0 else 0)`. If the condition is true, it assigns 1 to the temp variable, otherwise it assigns 0.\n",
        "\n",
        "Finally, the temp value is appended to the y list using the `append()` method. This process continues for each index in n, resulting in a list y that corresponds to the unit step signal for the values in n.\n",
        "\n",
        "In other words, the resulting y list is **[0, 0, 1, 1, 1, 1, 1, 1]**, which represents the value of the unit step signal for each element in n."
      ],
      "metadata": {
        "id": "ETxjlXhX995J"
      }
    },
    {
      "cell_type": "markdown",
      "source": [
        "\n",
        "```\n",
        "plt.stem(n, y)\n",
        "plt.axis([-2.1, 5.1, -0.1, 1.3])\n",
        "```\n",
        "\n",
        "The code `plt.stem(n, y)` creates a stem plot of the unit step signal using the values in n as the x-axis and the values in y as the y-axis. The stem plot shows discrete values as vertical lines, where the height of each line corresponds to the value of the signal at that point.\n",
        "\n",
        "The code `plt.axis([-2.1, 5.1, -0.1, 1.3])` sets the limits of the x- and y-axes for the plot. The x-axis limits are set to -2.1 and 5.1, which extends the plot slightly beyond the range of the data in n. The y-axis limits are set to -0.1 and 1.3, which provides some padding above and below the data range to better display the vertical lines of the stem plot.\n",
        "\n",
        "Together, these two lines of code create a stem plot of the unit step signal that shows the discrete values of the signal for each element in n. The resulting plot should show vertical lines at x-values 0 and greater, and a flat line at y=0 for x-values less than 0. The stem plot can be used to visualize discrete signals like this, where the signal is only defined at specific points in time or space."
      ],
      "metadata": {
        "id": "gnFcSTbc-vVB"
      }
    },
    {
      "cell_type": "markdown",
      "source": [
        "# **Unit Impulse Signal**\n",
        "\n",
        "The unit impulse signal, also called the Dirac delta function, is a signal that is defined as zero everywhere except at time zero, where it has an infinitely high spike. Mathematically, it is usually denoted as `δ(t)` and is defined as:\n",
        "\n",
        "```\n",
        "δ(t) = 0, t ≠ 0\n",
        "δ(0) = ∞\n",
        "```\n",
        "In practice, the unit impulse signal cannot be physically realized as a physical signal because it has an infinitely high amplitude and zero duration, but it is a useful mathematical concept in signal processing and other fields.\n",
        "\n",
        "In discrete time, the unit impulse signal is defined as a sequence that is zero everywhere except at time zero, where it has a value of 1. Mathematically, it is usually denoted as `δ[n]` and is defined as:\n",
        "\n",
        "```\n",
        "δ[n] = 0, n ≠ 0\n",
        "δ[0] = 1\n",
        "```\n",
        "This signal is also known as the Kronecker delta function.\n",
        "\n",
        "The unit impulse signal is often used as a building block for other signals, and it has important properties in signal processing such as the sifting property, which states that integrating a signal over the unit impulse function gives the value of the signal at the time of the impulse."
      ],
      "metadata": {
        "id": "5n-ZLVKq9VQb"
      }
    },
    {
      "cell_type": "code",
      "source": [
        "import numpy as np\n",
        "import matplotlib.pyplot as plt\n",
        "\n",
        "n = range(-3, 4, 1)\n",
        "y = []\n",
        "for i in range(len(n)):\n",
        "    temp = (1 if n[i] == 0 else 0)\n",
        "    y.append(temp)\n",
        "    \n",
        "plt.stem(n, y)\n",
        "plt.axis([-3.1, 3.1, -0.1, 1.1])\n",
        "plt.show()"
      ],
      "metadata": {
        "colab": {
          "base_uri": "https://localhost:8080/",
          "height": 321
        },
        "id": "n4wuUSoe9ZJ8",
        "outputId": "1d982029-f667-4c7c-88dd-02b24d4ce470"
      },
      "execution_count": null,
      "outputs": [
        {
          "output_type": "stream",
          "name": "stderr",
          "text": [
            "<ipython-input-20-ad3fb6f8c035>:10: UserWarning: In Matplotlib 3.3 individual lines on a stem plot will be added as a LineCollection instead of individual lines. This significantly improves the performance of a stem plot. To remove this warning and switch to the new behaviour, set the \"use_line_collection\" keyword argument to True.\n",
            "  plt.stem(n, y)\n"
          ]
        },
        {
          "output_type": "display_data",
          "data": {
            "text/plain": [
              "<Figure size 432x288 with 1 Axes>"
            ],
            "image/png": "[encoded data removed]"
          },
          "metadata": {
            "needs_background": "light"
          }
        }
      ]
    },
    {
      "cell_type": "markdown",
      "source": [
        "\n",
        "```\n",
        "n = range(-3, 4, 1)\n",
        "y = []\n",
        "for i in range(len(n)):\n",
        "    temp = (1 if n[i] == 0 else 0)\n",
        "    y.append(temp)\n",
        "```\n",
        "The code snippet `n = range(-3, 4, 1)` creates a range object n that includes the integers from -3 up to (but not including) 4, with a step size of 1.\n",
        "\n",
        "In other words, the elements of n are **-3, -2, -1, 0, 1, 2, 3**.\n",
        "\n",
        "The code `y = []` initializes an empty list called y.\n",
        "\n",
        "The for loop then iterates over the indices of the n sequence using the `range(len(n))` function. For each index i, the loop checks if the corresponding value in n is equal to zero using the condition `n[i] == 0`. If the condition is true, it assigns 1 to the temp variable, otherwise it assigns 0.\n",
        "\n",
        "Finally, the temp value is appended to the y list using the `append()` method. This process continues for each index in n, resulting in a list y that corresponds to the unit impulse signal for the values in n.\n",
        "\n",
        "In other words, the resulting y list is **[0, 0, 0, 1, 0, 0, 0]**, which represents the value of the unit impulse signal for each element in n.\n"
      ],
      "metadata": {
        "id": "p0kUmYD2_rKf"
      }
    },
    {
      "cell_type": "markdown",
      "source": [
        "# **Unit ramp signal**\n",
        "The unit ramp signal is a signal that increases linearly with time, starting at zero at time zero. Mathematically, it is usually denoted as u(t) and is defined as:\n",
        "\n",
        "```\n",
        "u(t) = 0, t < 0\n",
        "u(t) = t, t >= 0\n",
        "```\n",
        "In other words, the unit ramp signal is zero for negative time, and for non-negative time it increases linearly with a slope of 1.\n",
        "\n",
        "In discrete time, the unit ramp signal is defined as a sequence that starts at zero and increases linearly with time, with a slope of 1. Mathematically, it is usually denoted as u[n] and is defined as:\n",
        "\n",
        "```\n",
        "u[n] = 0, n < 0\n",
        "u[n] = n, n >= 0\n",
        "```\n",
        "In other words, the unit ramp signal is zero for negative values of n, and for non-negative values of n it increases linearly with a slope of 1.\n",
        "\n",
        "The unit ramp signal is commonly used in signal processing and control systems as a reference signal or as a building block for other signals. It has a number of useful properties, such as being a causal signal (meaning it does not depend on future values), and having a Laplace transform that can be used to analyze linear systems."
      ],
      "metadata": {
        "id": "w4LwW0Jc54Uh"
      }
    },
    {
      "cell_type": "code",
      "source": [
        "import numpy as np\n",
        "import matplotlib.pyplot as plt\n",
        "\n",
        "n = range(-2, 6, 1)\n",
        "y = []\n",
        "for i in range(len(n)):\n",
        "    temp = (n[i] if n[i]>=0 else 0)\n",
        "    y.append(temp)\n",
        "    \n",
        "print(list(n))\n",
        "print(y)\n",
        "\n",
        "#Plotting the graph\n",
        "plt.stem(n, y)\n",
        "plt.axis([-2.1, 5.1, -0.1, 5.5])\n",
        "plt.xlabel('  n--->  ')\n",
        "plt.ylabel('Amplitude ----> ')\n",
        "plt.title('Unit ramp Signal')\n",
        "plt.grid(True)\n",
        "plt.show()"
      ],
      "metadata": {
        "colab": {
          "base_uri": "https://localhost:8080/",
          "height": 387
        },
        "id": "wUNRupqe2iS8",
        "outputId": "6642de00-8cae-42ae-9289-56c042c68dcd"
      },
      "execution_count": null,
      "outputs": [
        {
          "output_type": "stream",
          "name": "stdout",
          "text": [
            "[-2, -1, 0, 1, 2, 3, 4, 5]\n",
            "[0, 0, 0, 1, 2, 3, 4, 5]\n"
          ]
        },
        {
          "output_type": "stream",
          "name": "stderr",
          "text": [
            "<ipython-input-13-77f65c5b262d>:11: UserWarning: In Matplotlib 3.3 individual lines on a stem plot will be added as a LineCollection instead of individual lines. This significantly improves the performance of a stem plot. To remove this warning and switch to the new behaviour, set the \"use_line_collection\" keyword argument to True.\n",
            "  plt.stem(n, y)\n"
          ]
        },
        {
          "output_type": "display_data",
          "data": {
            "text/plain": [
              "<Figure size 432x288 with 1 Axes>"
            ],
            "image/png": "[encoded data removed]"
          },
          "metadata": {
            "needs_background": "light"
          }
        }
      ]
    },
    {
      "cell_type": "markdown",
      "source": [
        "\n",
        "```\n",
        "n = range(-2, 6, 1)\n",
        "y = []\n",
        "for i in range(len(n)):\n",
        "    temp = (n[i] if n[i]>=0 else 0)\n",
        "    y.append(temp)\n",
        "```\n",
        "The code snippet `n = range(-2, 6, 1)` creates a range object n that includes the integers from -2 up to (but not including) 6, with a step size of 1.\n",
        "\n",
        "In other words, the elements of n are **-2, -1, 0, 1, 2, 3, 4, 5**.\n",
        "\n",
        "The code `y = []` initializes an empty list called y.\n",
        "\n",
        "The for loop then iterates over the indices of the n sequence using the `range(len(n))` function. For each index i, the loop checks if the corresponding value in n is greater than or equal to zero using the condition `n[i] >= 0`. If the condition is true, it assigns the value of `n[i]` to the temp variable, otherwise it assigns 0.\n",
        "\n",
        "Finally, the temp value is appended to the y list using the `append() `method. This process continues for each index in n, resulting in a list y that corresponds to the unit ramp signal for the values in n.\n",
        "\n",
        "In other words, the resulting y list is [0, 0, 0, 1, 2, 3, 4, 5], which represents the value of the unit ramp signal for each element in n.\n"
      ],
      "metadata": {
        "id": "gkDQtGthAnc2"
      }
    },
    {
      "cell_type": "markdown",
      "source": [
        "# **Exponential signal** \n",
        "\n",
        "An exponential signal is a type of signal whose amplitude varies exponentially with time. It is a fundamental signal in many areas of science and engineering, including physics, chemistry, biology, and signal processing.\n",
        "\n",
        "The general form of an exponential signal is given by:\n",
        "\n",
        "`x(t) = A exp(b t)`\n",
        "\n",
        "where A and b are constants, and `exp()` is the exponential function. This signal can be either growing or decaying, depending on the value of b. If b is positive, the signal grows exponentially over time, while if b is negative, the signal decays exponentially over time.\n",
        "\n",
        "In discrete time, the exponential signal can be defined as:\n",
        "\n",
        "`x[n] = A exp(b n)`\n",
        "\n",
        "where n is an integer and A and b are constants.\n",
        "\n",
        "To generate an exponential signal in Python, you can use the numpy library which provides the exp() function for computing the exponential of a given input."
      ],
      "metadata": {
        "id": "xUgoh5rS7qdM"
      }
    },
    {
      "cell_type": "code",
      "source": [
        "import numpy as np\n",
        "import matplotlib.pyplot as plt\n",
        "\n",
        "a = 0.9\n",
        "n = range(0, 26, 1)\n",
        "y = []\n",
        "\n",
        "for i in range(len(n)):\n",
        "    temp = a**n[i]\n",
        "    y.append(temp)\n",
        "    \n",
        "#Plotting the graph\n",
        "plt.stem(y)\n",
        "plt.axis([-0.3, 25.1, -0.1, 1.1])\n",
        "plt.xlabel('  n--->  ')\n",
        "plt.ylabel('Amplitude ----> ')\n",
        "plt.title('Exponential signal for 0 < a < 1')\n",
        "plt.grid(True)\n",
        "plt.show()"
      ],
      "metadata": {
        "colab": {
          "base_uri": "https://localhost:8080/",
          "height": 351
        },
        "id": "p5_VtHTQ6zj4",
        "outputId": "295b4580-b21e-42e8-de8c-7d32cd60ab89"
      },
      "execution_count": null,
      "outputs": [
        {
          "output_type": "stream",
          "name": "stderr",
          "text": [
            "<ipython-input-19-a8f5636d15c2>:10: UserWarning: In Matplotlib 3.3 individual lines on a stem plot will be added as a LineCollection instead of individual lines. This significantly improves the performance of a stem plot. To remove this warning and switch to the new behaviour, set the \"use_line_collection\" keyword argument to True.\n",
            "  plt.stem(y)\n"
          ]
        },
        {
          "output_type": "display_data",
          "data": {
            "text/plain": [
              "<Figure size 432x288 with 1 Axes>"
            ],
            "image/png": "[encoded data removed]"
          },
          "metadata": {
            "needs_background": "light"
          }
        }
      ]
    },
    {
      "cell_type": "markdown",
      "source": [
        "\n",
        "```\n",
        "a = 0.9\n",
        "n = range(0, 26, 1)\n",
        "y = []\n",
        "\n",
        "for i in range(len(n)):\n",
        "    temp = a**n[i]\n",
        "    y.append(temp)\n",
        "```\n",
        "\n",
        "This code generates a discrete-time exponential signal with a decay factor of a=0.9. The `range()` function generates a sequence of integers starting from 0 and up to (but not including) 26 with a step size of 1, which is assigned to the variable n.\n",
        "\n",
        "The for loop then iterates over the indices of n using the range`(len(n))` function. For each index i, the loop computes the value of the exponential signal temp using the formula `a**n[i]`, which raises the value of a to the power of `n[i]`. This exponentiation operation corresponds to the exponential decay of the signal. The resulting value is then appended to the list y using the `append()` method.\n",
        "\n",
        "After the loop completes, the list y contains the values of the exponential signal for the time indices in n.\n",
        "\n"
      ],
      "metadata": {
        "id": "UdEAMjghBgrG"
      }
    }
  ]
}