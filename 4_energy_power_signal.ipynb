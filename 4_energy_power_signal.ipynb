{
  "nbformat": 4,
  "nbformat_minor": 0,
  "metadata": {
    "colab": {
      "provenance": []
    },
    "kernelspec": {
      "name": "python3",
      "display_name": "Python 3"
    },
    "language_info": {
      "name": "python"
    }
  },
  "cells": [
    {
      "cell_type": "markdown",
      "source": [
        "# **Energy Signal**\n",
        "An energy signal is a signal that has finite energy, which is defined as the integral of the squared magnitude of the signal over all time. Mathematically, the energy of a continuous-time (CT) signal x(t) is given by:\n",
        "\n",
        "`E = ∫|x(t)|^2 dt`\n",
        "\n",
        "If the integral E is finite and nonzero, then the signal x(t) is an energy signal.\n",
        "\n",
        "In practical terms, an energy signal is a signal that has a finite power but a finite duration. Examples of energy signals include the impulse function, which has a finite area but an infinite amplitude, and the decaying exponential function, which has a finite amplitude but a finite duration.\n",
        "\n",
        "In Python, you can calculate the energy of a CT signal numerically using the numpy library, which provides the `trapz()` function for numerical integration. For example, to calculate the energy of a CT signal x(t) sampled at a rate of fs Hz and stored in a numpy array x, you can use the following code:"
      ],
      "metadata": {
        "id": "gDcCylwCGdEn"
      }
    },
    {
      "cell_type": "code",
      "source": [
        "import numpy as np\n",
        "\n",
        "fs = 1000\n",
        "t = np.linspace(0, 1, fs, endpoint=False)\n",
        "x = np.exp(-t)\n",
        "\n",
        "E = np.trapz(np.abs(x)**2, t)\n",
        "\n",
        "print(\"Energy of x(t) =\", E)"
      ],
      "metadata": {
        "colab": {
          "base_uri": "https://localhost:8080/"
        },
        "id": "pyrnLdI_Gn6Q",
        "outputId": "6f255bfb-0ad5-4bb2-bec0-e9ffab6aa041"
      },
      "execution_count": null,
      "outputs": [
        {
          "output_type": "stream",
          "name": "stdout",
          "text": [
            "Energy of x(t) = 0.43219703173852475\n"
          ]
        }
      ]
    },
    {
      "cell_type": "markdown",
      "source": [
        "This code generates a decaying exponential CT signal x that has a duration of 1 second and is sampled at a rate of 1000 Hz. \n",
        "\n",
        "The energy of x is then calculated using the `np.trapz()` function, which integrates the squared magnitude of the signal over the time vector t. The resulting energy value is printed to the console.\n",
        "\n",
        "Note that the `np.abs()` function is used to calculate the magnitude of the signal, since the energy integral requires the squared magnitude of the signal. \n",
        "\n",
        "The `**2` operator is used to square the magnitude before integrating over time. Also, the endpoint=False argument is used in the `np.linspace()` function to exclude the endpoint of the time vector, since the signal has a finite duration."
      ],
      "metadata": {
        "id": "jrHUxiraGt94"
      }
    },
    {
      "cell_type": "markdown",
      "source": [
        "# **Power Signal**\n",
        "A power signal is a signal that has finite power, which is defined as the average value of the squared magnitude of the signal over all time. Mathematically, the power of a continuous-time (CT) signal x(t) is given by:\n",
        "\n",
        "`P = lim(T->∞) 1/T ∫[-T/2,T/2] |x(t)|^2 dt`\n",
        "\n",
        "If the limit P exists and is finite, then the signal x(t) is a power signal.\n",
        "\n",
        "In practical terms, a power signal is a signal that has a finite average power but can have infinite energy. Examples of power signals include periodic signals, such as sinusoidal or square waves, and signals with random variations, such as white noise.\n",
        "\n",
        "In Python, you can calculate the power of a CT signal numerically using the numpy library, which provides the `trapz()` function for numerical integration. \n",
        "\n",
        "For example, to calculate the power of a CT signal x(t) sampled at a rate of fs Hz and stored in a numpy array x, you can use the following code:"
      ],
      "metadata": {
        "id": "lfjr4LuWHAUu"
      }
    },
    {
      "cell_type": "code",
      "source": [
        "import numpy as np\n",
        "\n",
        "fs = 1000\n",
        "t = np.linspace(0, 1, fs, endpoint=False)\n",
        "x = np.sin(2*np.pi*10*t) + np.sin(2*np.pi*20*t)\n",
        "\n",
        "P = np.trapz(np.abs(x)**2, t) / (t[-1]-t[0])\n",
        "\n",
        "print(\"Power of x(t) =\", P)"
      ],
      "metadata": {
        "colab": {
          "base_uri": "https://localhost:8080/"
        },
        "id": "CyQVE56sGp_b",
        "outputId": "efc661c3-5857-4d29-8dcf-9748256ec9ad"
      },
      "execution_count": null,
      "outputs": [
        {
          "output_type": "stream",
          "name": "stdout",
          "text": [
            "Power of x(t) = 1.0009832880147758\n"
          ]
        }
      ]
    },
    {
      "cell_type": "markdown",
      "source": [
        "This code generates a CT signal x that consists of two sinusoidal waves with frequencies of 10 Hz and 20 Hz, respectively. \n",
        "\n",
        "The power of x is then calculated using the `np.trapz()` function, which integrates the squared magnitude of the signal over the time vector t, and then divides by the total duration of the signal (i.e., the difference between the first and last time points in t). The resulting power value is printed to the console.\n",
        "\n",
        "Note that the `np.abs()` function is used to calculate the magnitude of the signal, since the power calculation requires the squared magnitude of the signal. The `**2` operator is used to square the magnitude before integrating over time. Also, the endpoint=False argument is used in the `np.linspace()` function to exclude the endpoint of the time vector, since the signal has a finite duration."
      ],
      "metadata": {
        "id": "EBUEX8-wHUYs"
      }
    }
  ]
}