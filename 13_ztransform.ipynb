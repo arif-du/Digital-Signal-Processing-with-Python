{
  "nbformat": 4,
  "nbformat_minor": 0,
  "metadata": {
    "colab": {
      "provenance": []
    },
    "kernelspec": {
      "name": "python3",
      "display_name": "Python 3"
    },
    "language_info": {
      "name": "python"
    }
  },
  "cells": [
    {
      "cell_type": "markdown",
      "source": [
        "# **Z-transform**"
      ],
      "metadata": {
        "id": "Ed7cceEcRJwI"
      }
    },
    {
      "cell_type": "markdown",
      "source": [
        "The z-transform is a mathematical tool used in digital signal processing to convert a discrete-time signal into a complex-valued function of a complex variable z. The z-transform is used to analyze and design digital filters, as well as to represent discrete-time signals and systems in the frequency domain.\n",
        "\n",
        "The z-transform of a discrete-time signal x[n] is given by:\n",
        "\n",
        "`X(z) = ∑[n=-∞ to n=∞] x[n] * z^-n`\n",
        "\n",
        "where z is a complex variable and X(z) is the z-transform of x[n]. The z-transform of a discrete-time system is defined as the ratio of the z-transform of the system's output to the z-transform of its input.\n",
        "\n",
        "The z-transform is a useful tool for analyzing the frequency response of digital filters. By taking the z-transform of the filter coefficients, we can obtain the transfer function of the filter in the z-domain. This transfer function can then be used to compute the filter's frequency response, which is a measure of how the filter attenuates or amplifies signals at different frequencies.\n",
        "\n",
        "The z-transform is also useful for analyzing the stability and causality of discrete-time signals and systems. A discrete-time signal is said to be stable if its z-transform converges within the unit circle in the z-plane. A system is said to be causal if its impulse response h[n] is zero for n < 0, which is equivalent to the condition that all poles of the system's transfer function lie inside the unit circle in the z-plane."
      ],
      "metadata": {
        "id": "S12FMzFkW5qx"
      }
    },
    {
      "cell_type": "markdown",
      "source": [
        "In this code, we first define the sequence x. Then, we compute the roots of the sequence using the `np.roots` function, which returns the zeros of the numerator polynomial of the z-transform. Since the sequence has no poles, we set the poles p to an array of zeros. We also set the gain k to the first element of the sequence, which is the constant term of the numerator polynomial.\n",
        "\n",
        "Next, we use the `zpk2tf` function from `scipy.signal` to convert the zeros, poles, and gain of the z-transform into numerator and denominator polynomials. These polynomials are then passed to the `freqz` function to compute the frequency response of the filter.\n",
        "\n",
        "Finally, we compute the region of convergence (ROC) of the z-transform by taking the reciprocal of the absolute values of the zeros, and finding the minimum and maximum values. We then print the z-transform and its ROC.\n",
        "\n",
        "Note that this code assumes that the z-transform exists and is absolutely convergent. If the z-transform has poles outside the unit circle, its ROC will be a ring in the complex plane, and the R variable will be a tuple of two values. If the z-transform has poles on the unit circle or outside it, it may not converge absolutely, and the R variable may be a tuple of infinity and negative infinity."
      ],
      "metadata": {
        "id": "x9MwoQkGRCww"
      }
    },
    {
      "cell_type": "code",
      "source": [
        "import numpy as np\n",
        "from scipy.signal import zpk2tf, freqz\n",
        "\n",
        "# Define the sequence\n",
        "x = np.array([1, 2, 3, 4, 5])\n",
        "\n",
        "# Compute the numerator and denominator polynomials of the z-transform\n",
        "z, p, k = np.roots(x), np.zeros_like(x), x[0]\n",
        "b, a = zpk2tf(z, p, k)\n",
        "\n",
        "# Compute the frequency response of the filter\n",
        "w, h = freqz(b, a)\n",
        "\n",
        "# Compute the ROC of the z-transform\n",
        "r = 1 / np.abs(z)\n",
        "R = (np.min(r), np.max(r))\n",
        "\n",
        "# Print the z-transform and its ROC\n",
        "print(\"Z-Transform: \", b, \"/\", a)\n",
        "print(\"ROC: \", R)\n"
      ],
      "metadata": {
        "colab": {
          "base_uri": "https://localhost:8080/"
        },
        "id": "tO3Rsi8YQrj8",
        "outputId": "8640cf08-4adc-46c9-e753-fce5eeba2e67"
      },
      "execution_count": 9,
      "outputs": [
        {
          "output_type": "stream",
          "name": "stdout",
          "text": [
            "Z-Transform:  [1. 2. 3. 4. 5.] / [1. 0. 0. 0. 0. 0.]\n",
            "ROC:  (0.6462441275530104, 0.6920195889335542)\n"
          ]
        }
      ]
    },
    {
      "cell_type": "markdown",
      "source": [
        "\n",
        "```\n",
        "# Compute the numerator and denominator polynomials of the z-transform\n",
        "z, p, k = np.roots(x), np.zeros_like(x), x[0]\n",
        "b, a = zpk2tf(z, p, k)\n",
        "```\n",
        "This code is attempting to compute the numerator and denominator polynomials of the z-transform using the roots of the sequence x. However, this is not the correct approach. Here's a corrected version of the code that computes the numerator and denominator polynomials using `scipy.signal.tf2zpk`"
      ],
      "metadata": {
        "id": "QMOZRLs7SKD3"
      }
    },
    {
      "cell_type": "markdown",
      "source": [
        "\n",
        "```\n",
        "# Compute the frequency response of the filter\n",
        "w, h = freqz(b, a)\n",
        "```\n",
        "This line of code computes the frequency response of the digital filter with the coefficients b and a.\n",
        "\n",
        "The freqz function from scipy.signal takes as input the coefficients of the filter's numerator and denominator polynomials, and computes the frequency response of the filter over the frequency range w.\n",
        "\n",
        "The output of freqz is a tuple (w, h), where w is an array of frequencies (in radians/sample), and h is an array of complex values representing the frequency response of the filter.\n"
      ],
      "metadata": {
        "id": "yAf930rUSaKn"
      }
    },
    {
      "cell_type": "markdown",
      "source": [
        "\n",
        "```\n",
        "# Compute the ROC of the z-transform\n",
        "r = 1 / np.abs(z)\n",
        "R = (np.min(r), np.max(r))\n",
        "```\n",
        "This line of code computes the Region of Convergence (ROC) of the z-transform of the sequence x.\n",
        "\n",
        "The ROC is the set of values of z for which the z-transform converges, and is given by the equation `R = {z : |z| > r_min and |z| < r_max}`, where r_min and r_max are the minimum and maximum radii of convergence, respectively.\n",
        "\n",
        "In this code, r is the reciprocal of the absolute values of the roots z, and R is a tuple containing the minimum and maximum values of r. Therefore, the ROC of the z-transform of the sequence x is the annular region in the complex plane defined by R.\n"
      ],
      "metadata": {
        "id": "ddAM5yqmSnv2"
      }
    },
    {
      "cell_type": "markdown",
      "source": [
        "\n",
        "```\n",
        "# Print the z-transform and its ROC\n",
        "print(\"Z-Transform: \", b, \"/\", a)\n",
        "print(\"ROC: \", R)\n",
        "```\n",
        "This code prints the z-transform of the sequence x in terms of its numerator and denominator polynomials b and a, and the ROC of the z-transform, which is a tuple containing the minimum and maximum radii of convergence.\n",
        "\n",
        "Note that the b and a variables were computed using the **zpk2tf** function, which converts the zeros, poles, and gain of a discrete-time system into its numerator and denominator polynomials, respectively. Here, z contains the roots of the sequence x, p is set to zero since the sequence has no poles, and k is set to the first element of the sequence."
      ],
      "metadata": {
        "id": "-tXyDoGcSzsu"
      }
    },
    {
      "cell_type": "markdown",
      "source": [
        "# **Pole Zero**"
      ],
      "metadata": {
        "id": "Ss5oCwh3TE53"
      }
    },
    {
      "cell_type": "markdown",
      "source": [
        "In signal processing, poles and zeros refer to the locations of the roots of the denominator and numerator polynomials, respectively, of the transfer function of a system. The transfer function describes the relationship between the input and output signals of a system, and the poles and zeros provide information about the system's behavior.\n",
        "\n",
        "Poles and zeros are important in various signal processing applications, including filter design, system identification, and analysis of signal spectra. They can be used to determine the stability and causality of a system, as well as to characterize its frequency response.\n",
        "\n",
        "For example, in filter design, the location of poles and zeros can be used to determine the type of filter and its characteristics. A low-pass filter, which passes low-frequency signals and attenuates high-frequency signals, has its poles located in the left half of the complex plane, while a high-pass filter, which passes high-frequency signals and attenuates low-frequency signals, has its poles located in the right half of the complex plane. The location of the zeros determines the frequency at which the filter has its maximum attenuation or gain.\n",
        "\n",
        "In system identification, the location of poles and zeros can be used to estimate the parameters of a system. By analyzing the frequency response of a system, it is possible to estimate the location of its poles and zeros, which can be used to identify the transfer function of the system.\n",
        "\n",
        "In spectral analysis, the location of poles and zeros can be used to estimate the frequency content of a signal. By analyzing the poles and zeros of a signal's transfer function, it is possible to determine the frequencies at which the signal has its maximum power or energy.\n",
        "\n",
        "In summary, poles and zeros play a critical role in signal processing, providing important information about the behavior of systems and signals."
      ],
      "metadata": {
        "id": "uXa7u51_Vh5S"
      }
    },
    {
      "cell_type": "markdown",
      "source": [
        "This code defines a transfer function in terms of its numerator and denominator coefficients and plots its poles and zeros on the z-plane using matplotlib."
      ],
      "metadata": {
        "id": "Mp4RTt2YTSFy"
      }
    },
    {
      "cell_type": "markdown",
      "source": [
        "Create a new figure with **plt.figure()** and specify the size of the figure using figsize. Then plot the zeros and poles on the z-plane using **plt.plot()**, specifying the real and imaginary parts of the zeros and poles as well as their respective markers ('o' for zeros and 'x' for poles) and labels. Plot dashed lines for the real and imaginary axes using **plt.plot()** and specify their range using **plt.xlim()** and **plt.ylim()**. Add x- and y-axis labels and a title using **plt.xlabel(), plt.ylabel(), and plt.title()**. Finally, add a legend using plt.**legend()** and display the plot using **plt.show()**."
      ],
      "metadata": {
        "id": "lW_8_jtwTXUz"
      }
    },
    {
      "cell_type": "code",
      "source": [
        "import numpy as np\n",
        "import matplotlib.pyplot as plt\n",
        "\n",
        "# define the transfer function H(z) in terms of z\n",
        "num = np.array([1, 2, 3])  # numerator coefficients\n",
        "den = np.array([1, -0.5, 0.25])  # denominator coefficients\n",
        "\n",
        "# find the zeros of H(z)\n",
        "zeros = np.roots(num)\n",
        "\n",
        "# find the poles of H(z)\n",
        "poles = np.roots(den)\n",
        "\n",
        "# plot the poles and zeros on the z-plane\n",
        "plt.figure(figsize=(6,6))\n",
        "plt.plot(np.real(zeros), np.imag(zeros), 'o', markersize=10, label='zeros')\n",
        "plt.plot(np.real(poles), np.imag(poles), 'x', markersize=10, label='poles')\n",
        "plt.plot([-1, 1], [0, 0], 'k--', alpha=0.5)\n",
        "plt.plot([0, 0], [-1, 1], 'k--', alpha=0.5)\n",
        "plt.xlim([-1.5, 1.5])\n",
        "plt.ylim([-1.5, 1.5])\n",
        "plt.xlabel('Real Part')\n",
        "plt.ylabel('Imaginary Part')\n",
        "plt.title('Pole-Zero Plot')\n",
        "plt.legend()\n",
        "plt.show()"
      ],
      "metadata": {
        "colab": {
          "base_uri": "https://localhost:8080/",
          "height": 404
        },
        "id": "O8QhNTJUSEwO",
        "outputId": "24a9f899-ccd7-4b49-fca4-58e12333ace7"
      },
      "execution_count": 12,
      "outputs": [
        {
          "output_type": "display_data",
          "data": {
            "text/plain": [
              "<Figure size 432x432 with 1 Axes>"
            ],
            "image/png": "[encoded data removed]"
          },
          "metadata": {
            "needs_background": "light"
          }
        }
      ]
    },
    {
      "cell_type": "markdown",
      "source": [
        "# **Stability and causality of the signal**\n",
        "\n",
        "The stability and causality of a signal can be analyzed using the z-transform.\n",
        "\n",
        "A signal is **stable** if its region of convergence (ROC) includes the unit circle in the z-plane. In other words, if the z-transform of the signal converges in a region that includes the unit circle, then the signal is stable.\n",
        "\n",
        "A signal is **causal** if all of its poles are inside the unit circle in the z-plane. In other words, if the z-transform of the signal has all its poles inside the unit circle, then the signal is causal. This is because a pole outside the unit circle implies that the signal depends on future values, making it non-causal.\n",
        "\n",
        "To analyze the stability and causality of a signal using Python, we can use the zplane function from the scipy.signal library to plot the zeros and poles of the signal in the z-plane. We can also use the tf2zpk function to convert the transfer function of the signal to its zeros, poles, and gain representation.\n",
        "\n",
        "In this code, we define the transfer function coefficients of the signal and convert it to its zeros, poles, and gain representation using the tf2zpk function. We then plot the zeros and poles in the z-plane using scatter and add a unit circle to the plot using Circle. Finally, we check the stability and causality of the signal using if statements and print the results."
      ],
      "metadata": {
        "id": "KjF7W37zUM33"
      }
    },
    {
      "cell_type": "code",
      "source": [
        "import numpy as np\n",
        "import matplotlib.pyplot as plt\n",
        "from scipy import signal\n",
        "\n",
        "# Define the transfer function coefficients\n",
        "num = [1, 2, 3]\n",
        "den = [4, 5, 6]\n",
        "\n",
        "# Convert the transfer function to its zeros, poles, and gain representation\n",
        "zeros, poles, gain = signal.tf2zpk(num, den)\n",
        "\n",
        "# Plot the zeros and poles in the z-plane\n",
        "fig, ax = plt.subplots()\n",
        "ax.scatter(np.real(zeros), np.imag(zeros), marker='o', s=50, color='blue', label='Zeros')\n",
        "ax.scatter(np.real(poles), np.imag(poles), marker='x', s=50, color='red', label='Poles')\n",
        "unit_circle = plt.Circle((0,0), 1, fill=False, color='black', ls='dashed')\n",
        "ax.add_artist(unit_circle)\n",
        "plt.xlabel('Real Part')\n",
        "plt.ylabel('Imaginary Part')\n",
        "plt.title('Pole-Zero Plot')\n",
        "plt.legend()\n",
        "\n",
        "# Check the stability of the signal\n",
        "if np.all(np.abs(poles) < 1):\n",
        "    print(\"The signal is stable\")\n",
        "else:\n",
        "    print(\"The signal is unstable\")\n",
        "\n",
        "# Check the causality of the signal\n",
        "if np.all(np.real(poles) < 0):\n",
        "    print(\"The signal is causal\")\n",
        "else:\n",
        "    print(\"The signal is non-causal\")\n",
        "\n",
        "plt.show()\n"
      ],
      "metadata": {
        "colab": {
          "base_uri": "https://localhost:8080/",
          "height": 330
        },
        "id": "KLuIBkvbVyCi",
        "outputId": "763d63e4-02f6-4eb1-9add-4f83d03a4670"
      },
      "execution_count": 15,
      "outputs": [
        {
          "output_type": "stream",
          "name": "stdout",
          "text": [
            "The signal is unstable\n",
            "The signal is causal\n"
          ]
        },
        {
          "output_type": "display_data",
          "data": {
            "text/plain": [
              "<Figure size 432x288 with 1 Axes>"
            ],
            "image/png": "[encoded data removed]"
          },
          "metadata": {
            "needs_background": "light"
          }
        }
      ]
    },
    {
      "cell_type": "markdown",
      "source": [
        "\n",
        "```\n",
        "# Convert the transfer function to its zeros, poles, and gain representation\n",
        "zeros, poles, gain = signal.tf2zpk(num, den)\n",
        "```\n",
        "signal.tf2zpk is a function in the scipy.signal module that takes the numerator and denominator polynomials of a transfer function and returns its zeros, poles, and gain in a tuple.\n"
      ],
      "metadata": {
        "id": "OHolr_jDWFJx"
      }
    },
    {
      "cell_type": "markdown",
      "source": [
        "\n",
        "```\n",
        "# Plot the zeros and poles in the z-plane\n",
        "fig, ax = plt.subplots()\n",
        "ax.scatter(np.real(zeros), np.imag(zeros), marker='o', s=50, color='blue', label='Zeros')\n",
        "ax.scatter(np.real(poles), np.imag(poles), marker='x', s=50, color='red', label='Poles')\n",
        "unit_circle = plt.Circle((0,0), 1, fill=False, color='black', ls='dashed')\n",
        "ax.add_artist(unit_circle)\n",
        "plt.xlabel('Real Part')\n",
        "plt.ylabel('Imaginary Part')\n",
        "plt.title('Pole-Zero Plot')\n",
        "plt.legend()\n",
        "```\n",
        "The code above is plotting the zeros and poles of a transfer function in the z-plane. It uses the tf2zpk function from the scipy.signal module to convert the transfer function's numerator and denominator coefficients into its zeros, poles, and gain representation. Then, it uses the scatter function from the matplotlib.pyplot module to plot the zeros and poles in the z-plane, with the zeros in blue circles and the poles in red crosses. It also adds a unit circle to the plot as a reference for stability. Finally, it adds labels to the x and y axes, a title to the plot, and a legend to differentiate between the zeros and poles."
      ],
      "metadata": {
        "id": "4RfRpXDvWP8H"
      }
    },
    {
      "cell_type": "markdown",
      "source": [
        "\n",
        "```\n",
        "# Check the stability of the signal\n",
        "if np.all(np.abs(poles) < 1):\n",
        "    print(\"The signal is stable\")\n",
        "else:\n",
        "    print(\"The signal is unstable\")\n",
        "\n",
        "# Check the causality of the signal\n",
        "if np.all(np.real(poles) < 0):\n",
        "    print(\"The signal is causal\")\n",
        "else:\n",
        "    print(\"The signal is non-causal\")\n",
        "\n",
        "plt.show()\n",
        "```\n",
        "This code block checks the stability and causality of the signal represented by the transfer function coefficients num and den using the tf2zpk function from the scipy.signal module to convert the transfer function to its zeros, poles, and gain representation.\n",
        "\n",
        "The stability of the signal is checked by verifying if all the poles lie inside the unit circle in the complex plane. If all the poles have a magnitude less than 1, the signal is stable. Otherwise, it is unstable.\n",
        "\n",
        "The causality of the signal is checked by verifying if all the poles have negative real parts. If all the poles have a negative real part, the signal is causal. Otherwise, it is non-causal.\n",
        "\n",
        "Finally, a pole-zero plot is generated using matplotlib to visualize the location of the zeros and poles in the complex plane. The zeros are denoted by blue circles, while the poles are denoted by red crosses. A unit circle is also added to the plot to indicate the region of convergence (ROC) of the z-transform."
      ],
      "metadata": {
        "id": "FflcEwPIWaVB"
      }
    }
  ]
}